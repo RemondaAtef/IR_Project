{
 "cells": [
  {
   "cell_type": "code",
   "execution_count": 56,
   "metadata": {},
   "outputs": [],
   "source": [
    "def Tokenizefiles(path):\n",
    "    tokenizedFile = []\n",
    "    with open(path,'r') as f :\n",
    "        for line in f :\n",
    "            for word in line.split() :\n",
    "                tokenizedFile.append(word)\n",
    "    return tokenizedFile"
   ]
  },
  {
   "cell_type": "code",
   "execution_count": 57,
   "metadata": {},
   "outputs": [],
   "source": [
    "def RemoveStopWords(listOfWords):\n",
    "    stop_words = ['.','i', 'me', 'my', 'myself', 'we', 'our', 'ours', 'ourselves', 'you', \"you're\", \"you've\", \"you'll\", \"you'd\", 'your', 'yours', 'yourself', 'yourselves', 'he', 'him', 'his', 'himself', 'she', \"she's\", 'her', 'hers', 'herself', 'it', \"it's\", 'its', 'itself', 'they', 'them', 'their', 'theirs', 'themselves', 'what', 'which', 'who', 'whom', 'this', 'that', \"that'll\", 'these', 'those', 'am', 'is', 'are', 'was', 'were', 'be', 'been', 'being', 'have', 'has', 'had', 'having', 'do', 'does', 'did', 'doing', 'a', 'an', 'the', 'and', 'but', 'if', 'or', 'because', 'as', 'until', 'while', 'of', 'at', 'by', 'for', 'with', 'about', 'against', 'between', 'into', 'through', 'during', 'before', 'after', 'above', 'below', 'to', 'from', 'up', 'down', 'in', 'out', 'on', 'off', 'over', 'under', 'again', 'further', 'then', 'once', 'here', 'there', 'when', 'where', 'why', 'how', 'all', 'any', 'both', 'each', 'few', 'more', 'most', 'other', 'some', 'such', 'no', 'nor', 'not', 'only', 'own', 'same', 'so', 'than', 'too', 'very', 's', 't', 'can', 'will', 'just', 'don', \"don't\", 'should', \"should've\", 'now', 'd', 'll', 'm', 'o', 're', 've', 'y', 'ain', 'aren', \"aren't\", 'couldn', \"couldn't\", 'didn', \"didn't\", 'doesn', \"doesn't\", 'hadn', \"hadn't\", 'hasn', \"hasn't\", 'haven', \"haven't\", 'isn', \"isn't\", 'ma', 'mightn', \"mightn't\", 'mustn', \"mustn't\", 'needn', \"needn't\", 'shan', \"shan't\", 'shouldn', \"shouldn't\", 'wasn', \"wasn't\", 'weren', \"weren't\", 'won', \"won't\", 'wouldn', \"wouldn't\"]\n",
    "    list_preprocessed = [w for w in listOfWords if not w in stop_words]  \n",
    "    list_preprocessed = []\n",
    "    for w in listOfWords:  \n",
    "        if w not in stop_words:  \n",
    "            list_preprocessed.append(w) \n",
    "    return list_preprocessed"
   ]
  },
  {
   "cell_type": "code",
   "execution_count": 58,
   "metadata": {},
   "outputs": [],
   "source": [
    "def TokenizeQuery(query):\n",
    "    tokenizedQuery = query.split()\n",
    "    return tokenizedQuery"
   ]
  },
  {
   "cell_type": "markdown",
   "metadata": {},
   "source": [
    "#The positional index"
   ]
  },
  {
   "cell_type": "code",
   "execution_count": 59,
   "metadata": {},
   "outputs": [],
   "source": [
    "# Initialize the dictionary. \n",
    "pos_index = {} "
   ]
  },
  {
   "cell_type": "code",
   "execution_count": 60,
   "metadata": {
    "pixiedust": {
     "displayParams": {}
    }
   },
   "outputs": [],
   "source": [
    "for i in range(1,11): \n",
    "    path = \"file\" + str(i) + \".txt\"\n",
    "    final_token_list =  RemoveStopWords(Tokenizefiles(path))\n",
    "    # For position and term in the tokens. \n",
    "    for pos, term in enumerate(final_token_list): \n",
    "        # If term already exists in the positional index dictionary. \n",
    "        if term in pos_index: \n",
    "            # Increment total freq by 1.\n",
    "            pos_index[term][0] = pos_index[term][0] + 1\n",
    "            # Check if the term has existed in that DocID before.\n",
    "            if i in pos_index[term][1]: \n",
    "                pos_index[term][1][i].append(pos)\n",
    "            else: \n",
    "                pos_index[term][1][i] = [pos]\n",
    "        # If term does not exist in the positional index dictionary\n",
    "        # (first encounter). \n",
    "        else:\n",
    "            # Initialize the list.\n",
    "            pos_index[term] = []\n",
    "            #The total frequency is 1.\n",
    "            pos_index[term].append(1)\n",
    "            # The postings list is initially empty.\n",
    "            pos_index[term].append({})\n",
    "            # Add doc ID to postings list.\n",
    "            pos_index[term][1][i] = [pos]"
   ]
  },
  {
   "cell_type": "code",
   "execution_count": 61,
   "metadata": {},
   "outputs": [
    {
     "name": "stdout",
     "output_type": "stream",
     "text": [
      "{'Text': [3, {1: [0], 2: [0], 3: [0]}], 'messages': [3, {1: [1], 2: [1], 3: [1]}], 'used': [3, {1: [2], 2: [2], 3: [2]}], 'personal': [3, {1: [3], 2: [3], 3: [3]}], ',': [5, {1: [4, 6], 2: [4, 6], 5: [8]}], 'family': [1, {1: [5]}], 'social': [3, {1: [7], 2: [7], 5: [9]}], 'purposes': [4, {1: [8], 2: [8], 3: [4], 5: [10]}], 'Governmental': [4, {1: [9], 2: [9], 4: [0], 5: [0]}], 'organizations': [4, {1: [10], 2: [10], 4: [1], 5: [1]}], 'use': [4, {1: [11], 2: [11], 4: [2], 5: [2]}], 'text': [4, {1: [12], 2: [12], 4: [3], 5: [3]}], 'messaging': [4, {1: [13], 2: [13], 4: [4], 5: [4]}], 'communication': [4, {1: [14], 2: [14], 4: [5], 5: [5]}], 'colleagues': [4, {1: [15], 2: [15], 4: [6], 5: [6]}], 'business': [2, {2: [5], 5: [7]}], 'hello': [1, {6: [0]}], 'helwan': [2, {6: [1], 8: [0]}], 'Helwan': [1, {7: [0]}], 'Uni': [1, {7: [1]}], 'many': [1, {7: [2]}], 'university': [2, {8: [1], 10: [1]}], 'cairoo': [1, {9: [0]}], 'cairo': [1, {10: [0]}]}\n"
     ]
    }
   ],
   "source": [
    "print(pos_index)"
   ]
  },
  {
   "cell_type": "code",
   "execution_count": 62,
   "metadata": {},
   "outputs": [],
   "source": [
    "def PositionalMerge(w1,w2):\n",
    "    answer = {}\n",
    "    #i=0 \n",
    "    #j=0\n",
    "    wl1 = list(w1[1]) #List of Keys (List of Documents (word1)) #[1,2,3,5,7] [2,3,5,7] [5,7]\n",
    "    wl2 = list(w2[1]) #List of Keys (List of Documents (word2)) #[1,2,5,7] [2,5,7] [5,7]\n",
    "    while bool(wl1) and bool(wl2):\n",
    "        #If Dw1 = Dw2\n",
    "        if wl1[0] == wl2[0]: #5==5 true\n",
    "            x = wl1[0] #A document from word1's documents #x=5\n",
    "            y = wl2[0] #A document from word2's documents #y=5\n",
    "            pw1 = w1[1][x] # =[0,4] w1[1][2]=[0,3]\n",
    "            pw2 = w2[1][y] # =[1] w2[1][2]=[1]\n",
    "            i2 = 0 #\n",
    "            j2 = 0 #\n",
    "            while bool(pw1) and bool(pw2): #[0,4] [1]\n",
    "                if (pw2[0] - pw1[0]) == 1: #true\n",
    "                    #if D is existing ( just append the index )\n",
    "                    if x in answer:\n",
    "                        answer[x].append(pw2[0])\n",
    "                        pw2.pop(0)\n",
    "                        pw1.pop(0)\n",
    "                    #if D is not existing ( append the index and the document )\n",
    "                    else:\n",
    "                        answer[x] = [] #answer{1:[],2:[]}\n",
    "                        answer[x].append(pw2[0]) #answer{1:[1],2:[1]} \n",
    "                        pw2.pop(0) #[4]\n",
    "                        pw1.pop(0) #[]\n",
    "                    #i2 = i2 + 1\n",
    "                    #j2 = j2 + 1\n",
    "                \n",
    "                elif (pw2[0] - pw1[0]) < 1:\n",
    "                    j2=j2+1;\n",
    "                    pw2.pop(0)\n",
    "                elif (pw2[0] - pw1[0]) > 1:\n",
    "                    i2=i2+1;\n",
    "                    pw1.pop(0)\n",
    "            #i = i+1; #i=1\n",
    "            #j = j+1; #j=1\n",
    "            wl1.pop(0)\n",
    "            wl2.pop(0)\n",
    "            \n",
    "        #If Dw1 < Dw2\n",
    "        elif wl1[0] < wl2[0]:\n",
    "            #i= i+1;\n",
    "            wl1.pop(0)\n",
    "        #If Dw1 > Dw2\n",
    "        elif wl1[0] > wl2[0]:\n",
    "            #j=j+1;\n",
    "            wl2.pop(0)\n",
    "                    \n",
    "    return answer                 "
   ]
  },
  {
   "cell_type": "code",
   "execution_count": 63,
   "metadata": {},
   "outputs": [
    {
     "name": "stdout",
     "output_type": "stream",
     "text": [
      "Enter a phrase query\n"
     ]
    }
   ],
   "source": [
    "print(\"Enter a phrase query\")"
   ]
  },
  {
   "cell_type": "code",
   "execution_count": 64,
   "metadata": {},
   "outputs": [
    {
     "name": "stdout",
     "output_type": "stream",
     "text": [
      "Governmental organizations\n"
     ]
    }
   ],
   "source": [
    "query = input()"
   ]
  },
  {
   "cell_type": "code",
   "execution_count": 65,
   "metadata": {},
   "outputs": [],
   "source": [
    "preprocessedQuery =  RemoveStopWords(TokenizeQuery(query))"
   ]
  },
  {
   "cell_type": "code",
   "execution_count": 66,
   "metadata": {
    "scrolled": true
   },
   "outputs": [
    {
     "data": {
      "text/plain": [
       "['Governmental', 'organizations']"
      ]
     },
     "execution_count": 66,
     "metadata": {},
     "output_type": "execute_result"
    }
   ],
   "source": [
    "preprocessedQuery"
   ]
  },
  {
   "cell_type": "code",
   "execution_count": 67,
   "metadata": {},
   "outputs": [
    {
     "data": {
      "text/plain": [
       "2"
      ]
     },
     "execution_count": 67,
     "metadata": {},
     "output_type": "execute_result"
    }
   ],
   "source": [
    "len(preprocessedQuery)"
   ]
  },
  {
   "cell_type": "code",
   "execution_count": 68,
   "metadata": {},
   "outputs": [
    {
     "name": "stdout",
     "output_type": "stream",
     "text": [
      "[4, {1: [9], 2: [9], 4: [0], 5: [0]}]\n",
      "[4, {1: [10], 2: [10], 4: [1], 5: [1]}]\n"
     ]
    }
   ],
   "source": [
    "for w in preprocessedQuery:\n",
    "    print(pos_index[w])"
   ]
  },
  {
   "cell_type": "code",
   "execution_count": 69,
   "metadata": {},
   "outputs": [
    {
     "name": "stdout",
     "output_type": "stream",
     "text": [
      "{1: [10], 2: [10], 4: [1], 5: [1]}\n"
     ]
    }
   ],
   "source": [
    "final = PositionalMerge(pos_index[preprocessedQuery[0]],pos_index[preprocessedQuery[1]])\n",
    "print(final)"
   ]
  },
  {
   "cell_type": "code",
   "execution_count": null,
   "metadata": {},
   "outputs": [],
   "source": []
  }
 ],
 "metadata": {
  "kernelspec": {
   "display_name": "Python 3",
   "language": "python",
   "name": "python3"
  },
  "language_info": {
   "codemirror_mode": {
    "name": "ipython",
    "version": 3
   },
   "file_extension": ".py",
   "mimetype": "text/x-python",
   "name": "python",
   "nbconvert_exporter": "python",
   "pygments_lexer": "ipython3",
   "version": "3.7.4"
  }
 },
 "nbformat": 4,
 "nbformat_minor": 4
}
