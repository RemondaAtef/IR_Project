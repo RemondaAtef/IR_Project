{
 "cells": [
  {
   "cell_type": "code",
   "execution_count": 78,
   "metadata": {},
   "outputs": [],
   "source": [
    "import math\n",
    "from math import log\n",
    "from collections import Counter \n",
    "from glob import iglob\n",
    "import os\n",
    "import pathlib\n",
    "import math \n",
    "import re"
   ]
  },
  {
   "cell_type": "code",
   "execution_count": 2,
   "metadata": {},
   "outputs": [],
   "source": [
    "def Tokenizefiles(path):\n",
    "    tokenizedFile = []\n",
    "    with open(path,'r') as f :\n",
    "        for line in f :\n",
    "            for word in line.split() :\n",
    "                tokenizedFile.append(word)\n",
    "    return tokenizedFile"
   ]
  },
  {
   "cell_type": "code",
   "execution_count": 39,
   "metadata": {},
   "outputs": [],
   "source": [
    "def RemoveStopWords(listOfWords):\n",
    "    stop_words = ['.', ',' , 'i', 'me', 'my', 'myself', 'we', 'our', 'ours', 'ourselves', 'you', \"you're\", \"you've\", \"you'll\", \"you'd\", 'your', 'yours', 'yourself', 'yourselves', 'he', 'him', 'his', 'himself', 'she', \"she's\", 'her', 'hers', 'herself', 'it', \"it's\", 'its', 'itself', 'they', 'them', 'their', 'theirs', 'themselves', 'what', 'which', 'who', 'whom', 'this', 'that', \"that'll\", 'these', 'those', 'am', 'is', 'are', 'was', 'were', 'be', 'been', 'being', 'have', 'has', 'had', 'having', 'do', 'does', 'did', 'doing', 'a', 'an', 'the', 'and', 'but', 'if', 'or', 'because', 'as', 'until', 'while', 'of', 'at', 'by', 'for', 'with', 'about', 'against', 'between', 'into', 'through', 'during', 'before', 'after', 'above', 'below', 'to', 'from', 'up', 'down', 'in', 'out', 'on', 'off', 'over', 'under', 'again', 'further', 'then', 'once', 'here', 'there', 'when', 'where', 'why', 'how', 'all', 'any', 'both', 'each', 'few', 'more', 'most', 'other', 'some', 'such', 'no', 'nor', 'not', 'only', 'own', 'same', 'so', 'than', 'too', 'very', 's', 't', 'can', 'will', 'just', 'don', \"don't\", 'should', \"should've\", 'now', 'd', 'll', 'm', 'o', 're', 've', 'y', 'ain', 'aren', \"aren't\", 'couldn', \"couldn't\", 'didn', \"didn't\", 'doesn', \"doesn't\", 'hadn', \"hadn't\", 'hasn', \"hasn't\", 'haven', \"haven't\", 'isn', \"isn't\", 'ma', 'mightn', \"mightn't\", 'mustn', \"mustn't\", 'needn', \"needn't\", 'shan', \"shan't\", 'shouldn', \"shouldn't\", 'wasn', \"wasn't\", 'weren', \"weren't\", 'won', \"won't\", 'wouldn', \"wouldn't\"]\n",
    "    list_preprocessed = [w for w in listOfWords if not w in stop_words]  \n",
    "    list_preprocessed = []\n",
    "    for w in listOfWords:  \n",
    "        if w not in stop_words:  \n",
    "            list_preprocessed.append(w) \n",
    "    return list_preprocessed"
   ]
  },
  {
   "cell_type": "code",
   "execution_count": 4,
   "metadata": {},
   "outputs": [],
   "source": [
    "def TokenizeQuery(query):\n",
    "    tokenizedQuery = query.split()\n",
    "    return tokenizedQuery"
   ]
  },
  {
   "cell_type": "markdown",
   "metadata": {},
   "source": [
    "#The positional index"
   ]
  },
  {
   "cell_type": "code",
   "execution_count": 5,
   "metadata": {},
   "outputs": [],
   "source": [
    "# Initialize the dictionary. \n",
    "pos_index = {} "
   ]
  },
  {
   "cell_type": "code",
   "execution_count": 6,
   "metadata": {
    "pixiedust": {
     "displayParams": {}
    }
   },
   "outputs": [],
   "source": [
    "for i in range(1,11): \n",
    "    path = \"file\" + str(i) + \".txt\"\n",
    "    final_token_list =  RemoveStopWords(Tokenizefiles(path))\n",
    "    # For position and term in the tokens. \n",
    "    for pos, term in enumerate(final_token_list): \n",
    "        # If term already exists in the positional index dictionary. \n",
    "        if term in pos_index: \n",
    "            # Increment total freq by 1.\n",
    "            pos_index[term][0] = pos_index[term][0] + 1\n",
    "            # Check if the term has existed in that DocID before.\n",
    "            if i in pos_index[term][1]: \n",
    "                pos_index[term][1][i].append(pos)\n",
    "            else: \n",
    "                pos_index[term][1][i] = [pos]\n",
    "        # If term does not exist in the positional index dictionary\n",
    "        # (first encounter). \n",
    "        else:\n",
    "            # Initialize the list.\n",
    "            pos_index[term] = []\n",
    "            #The total frequency is 1.\n",
    "            pos_index[term].append(1)\n",
    "            # The postings list is initially empty.\n",
    "            pos_index[term].append({})\n",
    "            # Add doc ID to postings list.\n",
    "            pos_index[term][1][i] = [pos]"
   ]
  },
  {
   "cell_type": "code",
   "execution_count": 7,
   "metadata": {},
   "outputs": [
    {
     "name": "stdout",
     "output_type": "stream",
     "text": [
      "{'Text': [3, {1: [0], 2: [0], 3: [0]}], 'messages': [3, {1: [1], 2: [1], 3: [1]}], 'used': [3, {1: [2], 2: [2], 3: [2]}], 'personal': [3, {1: [3], 2: [3], 3: [3]}], ',': [5, {1: [4, 6], 2: [4, 6], 5: [8]}], 'family': [1, {1: [5]}], 'social': [3, {1: [7], 2: [7], 5: [9]}], 'purposes': [4, {1: [8], 2: [8], 3: [4], 5: [10]}], 'Governmental': [4, {1: [9], 2: [9], 4: [0], 5: [0]}], 'organizations': [4, {1: [10], 2: [10], 4: [1], 5: [1]}], 'use': [4, {1: [11], 2: [11], 4: [2], 5: [2]}], 'text': [4, {1: [12], 2: [12], 4: [3], 5: [3]}], 'messaging': [4, {1: [13], 2: [13], 4: [4], 5: [4]}], 'communication': [4, {1: [14], 2: [14], 4: [5], 5: [5]}], 'colleagues': [4, {1: [15], 2: [15], 4: [6], 5: [6]}], 'business': [2, {2: [5], 5: [7]}], 'hello': [1, {6: [0]}], 'helwan': [2, {6: [1], 8: [0]}], 'Helwan': [1, {7: [0]}], 'Uni': [1, {7: [1]}], 'many': [1, {7: [2]}], 'university': [2, {8: [1], 10: [1]}], 'cairoo': [1, {9: [0]}], 'cairo': [1, {10: [0]}]}\n"
     ]
    }
   ],
   "source": [
    "print(pos_index)"
   ]
  },
  {
   "cell_type": "code",
   "execution_count": 8,
   "metadata": {},
   "outputs": [],
   "source": [
    "def PositionalMerge(w1,w2):\n",
    "    k=0\n",
    "    answer = {}\n",
    "    #i=0 \n",
    "    #j=0\n",
    "    wl1 = list(w1[1]) #List of Keys (List of Documents (word1)) #[1,2,3,5,7] [2,3,5,7] [5,7]\n",
    "    wl2 = list(w2[1]) #List of Keys (List of Documents (word2)) #[1,2,5,7] [2,5,7] [5,7]\n",
    "    while bool(wl1) and bool(wl2):\n",
    "        #If Dw1 = Dw2\n",
    "        if wl1[0] == wl2[0]: #5==5 true\n",
    "            x = wl1[0] #A document from word1's documents #x=5\n",
    "            y = wl2[0] #A document from word2's documents #y=5\n",
    "            pw1 = w1[1][x] # =[0,4] w1[1][2]=[0,3]\n",
    "            pw2 = w2[1][y] # =[1] w2[1][2]=[1]\n",
    "            i2 = 0 #\n",
    "            j2 = 0 #\n",
    "            while bool(pw1) and bool(pw2): #[0,4] [1]\n",
    "                if (pw2[0] - pw1[0]) == 1: #true\n",
    "                    #if D is existing ( just append the index )\n",
    "                    if x in answer:\n",
    "                        answer[x].append(pw2[0])\n",
    "                        pw2.pop(0)\n",
    "                        pw1.pop(0)\n",
    "                    #if D is not existing ( append the index and the document )\n",
    "                    else:\n",
    "                        k=k+1\n",
    "                        answer[x] = [] #answer{1:[],2:[]}\n",
    "                        answer[x].append(pw2[0]) #answer{1:[1],2:[1]} \n",
    "                        pw2.pop(0) #[4]\n",
    "                        pw1.pop(0) #[]\n",
    "                    #i2 = i2 + 1\n",
    "                    #j2 = j2 + 1\n",
    "                \n",
    "                elif (pw2[0] - pw1[0]) < 1:\n",
    "                    j2=j2+1;\n",
    "                    pw2.pop(0)\n",
    "                elif (pw2[0] - pw1[0]) > 1:\n",
    "                    i2=i2+1;\n",
    "                    pw1.pop(0)\n",
    "            #i = i+1; #i=1\n",
    "            #j = j+1; #j=1\n",
    "            wl1.pop(0)\n",
    "            wl2.pop(0)\n",
    "            \n",
    "        #If Dw1 < Dw2\n",
    "        elif wl1[0] < wl2[0]:\n",
    "            #i= i+1;\n",
    "            wl1.pop(0)\n",
    "        #If Dw1 > Dw2\n",
    "        elif wl1[0] > wl2[0]:\n",
    "            #j=j+1;\n",
    "            wl2.pop(0)\n",
    "                    \n",
    "    return answer ,k                "
   ]
  },
  {
   "cell_type": "code",
   "execution_count": 9,
   "metadata": {},
   "outputs": [
    {
     "name": "stdout",
     "output_type": "stream",
     "text": [
      "Enter a phrase query\n"
     ]
    }
   ],
   "source": [
    "print(\"Enter a phrase query\")"
   ]
  },
  {
   "cell_type": "code",
   "execution_count": 10,
   "metadata": {},
   "outputs": [
    {
     "name": "stdout",
     "output_type": "stream",
     "text": [
      "Governmental and organizations\n"
     ]
    }
   ],
   "source": [
    "query = input()\n"
   ]
  },
  {
   "cell_type": "code",
   "execution_count": 11,
   "metadata": {},
   "outputs": [],
   "source": [
    "#Tokenize query\n",
    "tokenized_query = TokenizeQuery(query)"
   ]
  },
  {
   "cell_type": "code",
   "execution_count": 12,
   "metadata": {},
   "outputs": [
    {
     "name": "stdout",
     "output_type": "stream",
     "text": [
      "['Governmental', 'and', 'organizations']\n"
     ]
    }
   ],
   "source": [
    "print(tokenized_query)"
   ]
  },
  {
   "cell_type": "code",
   "execution_count": 13,
   "metadata": {},
   "outputs": [],
   "source": [
    "#remove stop word from the query -> preprocesses query \\\n",
    "preprocessedQuery =  RemoveStopWords(tokenized_query)"
   ]
  },
  {
   "cell_type": "code",
   "execution_count": 14,
   "metadata": {
    "scrolled": true
   },
   "outputs": [
    {
     "name": "stdout",
     "output_type": "stream",
     "text": [
      "['Governmental', 'organizations']\n"
     ]
    }
   ],
   "source": [
    "print(preprocessedQuery)"
   ]
  },
  {
   "cell_type": "code",
   "execution_count": 15,
   "metadata": {},
   "outputs": [
    {
     "name": "stdout",
     "output_type": "stream",
     "text": [
      "2\n"
     ]
    }
   ],
   "source": [
    "print(len(preprocessedQuery))"
   ]
  },
  {
   "cell_type": "code",
   "execution_count": 16,
   "metadata": {},
   "outputs": [
    {
     "name": "stdout",
     "output_type": "stream",
     "text": [
      "[4, {1: [9], 2: [9], 4: [0], 5: [0]}]\n",
      "[4, {1: [10], 2: [10], 4: [1], 5: [1]}]\n"
     ]
    }
   ],
   "source": [
    "for w in preprocessedQuery:\n",
    "    print(pos_index[w])\n",
    "#pos_index[preprocessedQuery[1]]"
   ]
  },
  {
   "cell_type": "code",
   "execution_count": 17,
   "metadata": {},
   "outputs": [
    {
     "name": "stdout",
     "output_type": "stream",
     "text": [
      "[4, {1: [10], 2: [10], 4: [1], 5: [1]}]\n"
     ]
    }
   ],
   "source": [
    "l=[]\n",
    "final,k= PositionalMerge(pos_index[preprocessedQuery[0]],pos_index[preprocessedQuery[1]])\n",
    "l.append(k)\n",
    "if(final=={}):\n",
    "    l.append(\"not match\")\n",
    "     \n",
    "else:\n",
    "    l.append(final)\n",
    "if(len(preprocessedQuery)>2):\n",
    "    for i in range(2,len(preprocessedQuery)):\n",
    "        \n",
    "        final, k= PositionalMerge(l,pos_index[preprocessedQuery[i]])\n",
    "        l=[]\n",
    "        l.append(k)\n",
    "        if(final=={}):\n",
    "            l.append(\"not match\")\n",
    "        else:\n",
    "            l.append(final)\n",
    "        \n",
    "        \n",
    "print(l) \n",
    "    \n",
    "#     for i in range(2,len(preprocessedQuery)):\n",
    "#         final= PositionalMerge(pos_index[preprocessedQuery[i]],final)\n",
    "# print(final)\n",
    "        "
   ]
  },
  {
   "cell_type": "code",
   "execution_count": 47,
   "metadata": {},
   "outputs": [],
   "source": [
    "data=[]\n",
    "\n",
    "for i in range(1,11):\n",
    "    path = \"file\" + str(i) + \".txt\"\n",
    "    preprocessesed = RemoveStopWords(Tokenizefiles(path))\n",
    "    data.append(preprocessesed)"
   ]
  },
  {
   "cell_type": "code",
   "execution_count": 48,
   "metadata": {},
   "outputs": [
    {
     "name": "stdout",
     "output_type": "stream",
     "text": [
      "[['Text', 'messages', 'used', 'personal', 'family', 'social', 'purposes', 'Governmental', 'organizations', 'use', 'text', 'messaging', 'communication', 'colleagues'], ['Text', 'messages', 'used', 'personal', 'business', 'social', 'purposes', 'Governmental', 'organizations', 'use', 'text', 'messaging', 'communication', 'colleagues'], ['Text', 'messages', 'used', 'personal', 'purposes'], ['Governmental', 'organizations', 'use', 'text', 'messaging', 'communication', 'colleagues'], ['Governmental', 'organizations', 'use', 'text', 'messaging', 'communication', 'colleagues', 'business', 'social', 'purposes'], ['hello', 'helwan'], ['Helwan', 'Uni', 'many'], ['helwan', 'university'], ['cairoo'], ['cairo', 'university']]\n"
     ]
    }
   ],
   "source": [
    "print(data)"
   ]
  },
  {
   "cell_type": "code",
   "execution_count": 49,
   "metadata": {},
   "outputs": [],
   "source": [
    "#tf term freq (the number of times that t occurs in d)\n",
    "def term_frequency0(list):\n",
    "    terms = []\n",
    "    indexterm = []\n",
    "    indexfile = []\n",
    "    for item in list:\n",
    "        for it1 in item:\n",
    "            if (it1 in terms):\n",
    "                continue\n",
    "            indexterm.append(number_iterations(it1, item))\n",
    "            terms.append(it1)\n",
    "        terms = []\n",
    "        indexfile.append(indexterm)\n",
    "        indexterm = []\n",
    "    return indexfile"
   ]
  },
  {
   "cell_type": "code",
   "execution_count": 22,
   "metadata": {},
   "outputs": [],
   "source": [
    "def number_iterations(term, list):\n",
    "    count = 0\n",
    "    for item in list:\n",
    "        if (item == term):\n",
    "            count = count + 1\n",
    "    return [term, count]"
   ]
  },
  {
   "cell_type": "code",
   "execution_count": 136,
   "metadata": {},
   "outputs": [],
   "source": [
    "def log_tf(list):\n",
    "    c = term_frequency0(list)\n",
    "    for i in c: #for each file\n",
    "        for j in i: #for each term ['Text', 1]\n",
    "            x = j[1]\n",
    "            ii = 1 + log(x,10)\n",
    "            j.append(ii)\n",
    "    return c"
   ]
  },
  {
   "cell_type": "code",
   "execution_count": 23,
   "metadata": {},
   "outputs": [],
   "source": [
    "# def term_frequency(list):\n",
    "#     c = term_frequency0(list)\n",
    "#     i0 = 0\n",
    "#     for i in c:\n",
    "#         io1 = len(list[i0])\n",
    "#         for ii in i:\n",
    "#             j = (ii[1] / io1)\n",
    "#             j = \"{:.2f}\".format(j)\n",
    "#             ii.append(j)\n",
    "#             ii[-1] = float(j)\n",
    "#         i0 = i0 + 1\n",
    "#     return c"
   ]
  },
  {
   "cell_type": "code",
   "execution_count": 24,
   "metadata": {},
   "outputs": [],
   "source": [
    "def find0(term, lest):\n",
    "    for i in lest:\n",
    "        if (i == term):\n",
    "            return 1\n",
    "    return 0"
   ]
  },
  {
   "cell_type": "code",
   "execution_count": 25,
   "metadata": {},
   "outputs": [],
   "source": [
    "def idfpp(term, lest):\n",
    "    c = 0\n",
    "    for ll in lest:\n",
    "        for lll in ll:\n",
    "            if (find0(term, ll)):\n",
    "                c = c + 1\n",
    "                break\n",
    "    return c"
   ]
  },
  {
   "cell_type": "code",
   "execution_count": 140,
   "metadata": {},
   "outputs": [],
   "source": [
    "def idfallimfor(list):\n",
    "    tf = log_tf(list)\n",
    "    l = len(list)\n",
    "    for item in tf:\n",
    "        for i1 in item:\n",
    "            vit = idfpp(i1[0], list)\n",
    "            vit = math.log10(l / vit)\n",
    "            vit = \"{:.2f}\".format(vit)\n",
    "            i1.append(vit)\n",
    "            i1[-1] = float(i1[-1])\n",
    "            gg = i1[-1] * i1[-2]\n",
    "            gg = \"{:.2f}\".format(gg)\n",
    "            i1.append(gg)\n",
    "            i1[-1] = float(i1[-1])\n",
    "\n",
    "    return tf"
   ]
  },
  {
   "cell_type": "code",
   "execution_count": 27,
   "metadata": {},
   "outputs": [],
   "source": [
    "def tf(allimfor):\n",
    "    tf = []\n",
    "    for item in allimfor:\n",
    "        tfsmall = []\n",
    "        for i in item:\n",
    "            a = [i[0], i[2]]\n",
    "            tfsmall.append(a)\n",
    "        tf.append(tfsmall)\n",
    "    return tf"
   ]
  },
  {
   "cell_type": "code",
   "execution_count": 28,
   "metadata": {},
   "outputs": [],
   "source": [
    "def idf(allimfor):\n",
    "    tf = []\n",
    "    for item in allimfor:\n",
    "        tfsmall = []\n",
    "        for i in item:\n",
    "            a = [i[0], i[3]]\n",
    "            tfsmall.append(a)\n",
    "        tf.append(tfsmall)\n",
    "    return tf"
   ]
  },
  {
   "cell_type": "code",
   "execution_count": 29,
   "metadata": {},
   "outputs": [],
   "source": [
    "def tf_idf(allimfor):\n",
    "    tf = []\n",
    "    for item in allimfor:\n",
    "        tfsmall = []\n",
    "        for i in item:\n",
    "            a = [i[0], i[4]]\n",
    "            tfsmall.append(a)\n",
    "        tf.append(tfsmall)\n",
    "    return tf"
   ]
  },
  {
   "cell_type": "code",
   "execution_count": 115,
   "metadata": {},
   "outputs": [
    {
     "name": "stdout",
     "output_type": "stream",
     "text": [
      "[[['Text', 1], ['messages', 1], ['used', 1], ['personal', 1], ['family', 1], ['social', 1], ['purposes', 1], ['Governmental', 1], ['organizations', 1], ['use', 1], ['text', 1], ['messaging', 1], ['communication', 1], ['colleagues', 1]], [['Text', 1], ['messages', 1], ['used', 1], ['personal', 1], ['business', 1], ['social', 1], ['purposes', 1], ['Governmental', 1], ['organizations', 1], ['use', 1], ['text', 1], ['messaging', 1], ['communication', 1], ['colleagues', 1]], [['Text', 1], ['messages', 1], ['used', 1], ['personal', 1], ['purposes', 1]], [['Governmental', 1], ['organizations', 1], ['use', 1], ['text', 1], ['messaging', 1], ['communication', 1], ['colleagues', 1]], [['Governmental', 1], ['organizations', 1], ['use', 1], ['text', 1], ['messaging', 1], ['communication', 1], ['colleagues', 1], ['business', 1], ['social', 1], ['purposes', 1]], [['hello', 1], ['helwan', 1]], [['Helwan', 1], ['Uni', 1], ['many', 1]], [['helwan', 1], ['university', 1]], [['cairoo', 1]], [['cairo', 1], ['university', 1]]]\n"
     ]
    }
   ],
   "source": [
    "#tf\n",
    "freq=[]\n",
    "freq=term_frequency0(data)\n",
    "print(freq)"
   ]
  },
  {
   "cell_type": "code",
   "execution_count": 137,
   "metadata": {},
   "outputs": [
    {
     "name": "stdout",
     "output_type": "stream",
     "text": [
      "[[['Text', 1, 1.0], ['messages', 1, 1.0], ['used', 1, 1.0], ['personal', 1, 1.0], ['family', 1, 1.0], ['social', 1, 1.0], ['purposes', 1, 1.0], ['Governmental', 1, 1.0], ['organizations', 1, 1.0], ['use', 1, 1.0], ['text', 1, 1.0], ['messaging', 1, 1.0], ['communication', 1, 1.0], ['colleagues', 1, 1.0]], [['Text', 1, 1.0], ['messages', 1, 1.0], ['used', 1, 1.0], ['personal', 1, 1.0], ['business', 1, 1.0], ['social', 1, 1.0], ['purposes', 1, 1.0], ['Governmental', 1, 1.0], ['organizations', 1, 1.0], ['use', 1, 1.0], ['text', 1, 1.0], ['messaging', 1, 1.0], ['communication', 1, 1.0], ['colleagues', 1, 1.0]], [['Text', 1, 1.0], ['messages', 1, 1.0], ['used', 1, 1.0], ['personal', 1, 1.0], ['purposes', 1, 1.0]], [['Governmental', 1, 1.0], ['organizations', 1, 1.0], ['use', 1, 1.0], ['text', 1, 1.0], ['messaging', 1, 1.0], ['communication', 1, 1.0], ['colleagues', 1, 1.0]], [['Governmental', 1, 1.0], ['organizations', 1, 1.0], ['use', 1, 1.0], ['text', 1, 1.0], ['messaging', 1, 1.0], ['communication', 1, 1.0], ['colleagues', 1, 1.0], ['business', 1, 1.0], ['social', 1, 1.0], ['purposes', 1, 1.0]], [['hello', 1, 1.0], ['helwan', 1, 1.0]], [['Helwan', 1, 1.0], ['Uni', 1, 1.0], ['many', 1, 1.0]], [['helwan', 1, 1.0], ['university', 1, 1.0]], [['cairoo', 1, 1.0]], [['cairo', 1, 1.0], ['university', 1, 1.0]]]\n"
     ]
    }
   ],
   "source": [
    "#log tf\n",
    "freq=[]\n",
    "freq = log_tf(data)\n",
    "print(freq)"
   ]
  },
  {
   "cell_type": "code",
   "execution_count": 141,
   "metadata": {},
   "outputs": [
    {
     "name": "stdout",
     "output_type": "stream",
     "text": [
      "[[['Text', 1, 0.07], ['messages', 1, 0.07], ['used', 1, 0.07], ['personal', 1, 0.07], ['family', 1, 0.07], ['social', 1, 0.07], ['purposes', 1, 0.07], ['Governmental', 1, 0.07], ['organizations', 1, 0.07], ['use', 1, 0.07], ['text', 1, 0.07], ['messaging', 1, 0.07], ['communication', 1, 0.07], ['colleagues', 1, 0.07]], [['Text', 1, 0.07], ['messages', 1, 0.07], ['used', 1, 0.07], ['personal', 1, 0.07], ['business', 1, 0.07], ['social', 1, 0.07], ['purposes', 1, 0.07], ['Governmental', 1, 0.07], ['organizations', 1, 0.07], ['use', 1, 0.07], ['text', 1, 0.07], ['messaging', 1, 0.07], ['communication', 1, 0.07], ['colleagues', 1, 0.07]], [['Text', 1, 0.2], ['messages', 1, 0.2], ['used', 1, 0.2], ['personal', 1, 0.2], ['purposes', 1, 0.2]], [['Governmental', 1, 0.14], ['organizations', 1, 0.14], ['use', 1, 0.14], ['text', 1, 0.14], ['messaging', 1, 0.14], ['communication', 1, 0.14], ['colleagues', 1, 0.14]], [['Governmental', 1, 0.1], ['organizations', 1, 0.1], ['use', 1, 0.1], ['text', 1, 0.1], ['messaging', 1, 0.1], ['communication', 1, 0.1], ['colleagues', 1, 0.1], ['business', 1, 0.1], ['social', 1, 0.1], ['purposes', 1, 0.1]], [['hello', 1, 0.5], ['helwan', 1, 0.5]], [['Helwan', 1, 0.33], ['Uni', 1, 0.33], ['many', 1, 0.33]], [['helwan', 1, 0.5], ['university', 1, 0.5]], [['cairoo', 1, 1.0]], [['cairo', 1, 0.5], ['university', 1, 0.5]]]\n"
     ]
    }
   ],
   "source": [
    "#tf2 %\n",
    "freqs=[]\n",
    "freqs=term_frequency(data)\n",
    "print(freqs)"
   ]
  },
  {
   "cell_type": "code",
   "execution_count": 142,
   "metadata": {},
   "outputs": [
    {
     "name": "stdout",
     "output_type": "stream",
     "text": [
      "[[['Text', 1, 1.0, 0.52, 0.52], ['messages', 1, 1.0, 0.52, 0.52], ['used', 1, 1.0, 0.52, 0.52], ['personal', 1, 1.0, 0.52, 0.52], ['family', 1, 1.0, 1.0, 1.0], ['social', 1, 1.0, 0.52, 0.52], ['purposes', 1, 1.0, 0.4, 0.4], ['Governmental', 1, 1.0, 0.4, 0.4], ['organizations', 1, 1.0, 0.4, 0.4], ['use', 1, 1.0, 0.4, 0.4], ['text', 1, 1.0, 0.4, 0.4], ['messaging', 1, 1.0, 0.4, 0.4], ['communication', 1, 1.0, 0.4, 0.4], ['colleagues', 1, 1.0, 0.4, 0.4]], [['Text', 1, 1.0, 0.52, 0.52], ['messages', 1, 1.0, 0.52, 0.52], ['used', 1, 1.0, 0.52, 0.52], ['personal', 1, 1.0, 0.52, 0.52], ['business', 1, 1.0, 0.7, 0.7], ['social', 1, 1.0, 0.52, 0.52], ['purposes', 1, 1.0, 0.4, 0.4], ['Governmental', 1, 1.0, 0.4, 0.4], ['organizations', 1, 1.0, 0.4, 0.4], ['use', 1, 1.0, 0.4, 0.4], ['text', 1, 1.0, 0.4, 0.4], ['messaging', 1, 1.0, 0.4, 0.4], ['communication', 1, 1.0, 0.4, 0.4], ['colleagues', 1, 1.0, 0.4, 0.4]], [['Text', 1, 1.0, 0.52, 0.52], ['messages', 1, 1.0, 0.52, 0.52], ['used', 1, 1.0, 0.52, 0.52], ['personal', 1, 1.0, 0.52, 0.52], ['purposes', 1, 1.0, 0.4, 0.4]], [['Governmental', 1, 1.0, 0.4, 0.4], ['organizations', 1, 1.0, 0.4, 0.4], ['use', 1, 1.0, 0.4, 0.4], ['text', 1, 1.0, 0.4, 0.4], ['messaging', 1, 1.0, 0.4, 0.4], ['communication', 1, 1.0, 0.4, 0.4], ['colleagues', 1, 1.0, 0.4, 0.4]], [['Governmental', 1, 1.0, 0.4, 0.4], ['organizations', 1, 1.0, 0.4, 0.4], ['use', 1, 1.0, 0.4, 0.4], ['text', 1, 1.0, 0.4, 0.4], ['messaging', 1, 1.0, 0.4, 0.4], ['communication', 1, 1.0, 0.4, 0.4], ['colleagues', 1, 1.0, 0.4, 0.4], ['business', 1, 1.0, 0.7, 0.7], ['social', 1, 1.0, 0.52, 0.52], ['purposes', 1, 1.0, 0.4, 0.4]], [['hello', 1, 1.0, 1.0, 1.0], ['helwan', 1, 1.0, 0.7, 0.7]], [['Helwan', 1, 1.0, 1.0, 1.0], ['Uni', 1, 1.0, 1.0, 1.0], ['many', 1, 1.0, 1.0, 1.0]], [['helwan', 1, 1.0, 0.7, 0.7], ['university', 1, 1.0, 0.7, 0.7]], [['cairoo', 1, 1.0, 1.0, 1.0]], [['cairo', 1, 1.0, 1.0, 1.0], ['university', 1, 1.0, 0.7, 0.7]]]\n"
     ]
    }
   ],
   "source": [
    "# 1: tf , 2: second tf(log) , 3:idf , 4:tf.idf\n",
    "all_info=[]\n",
    "all_info=idfallimfor(data)\n",
    "print(all_info)"
   ]
  },
  {
   "cell_type": "code",
   "execution_count": 54,
   "metadata": {},
   "outputs": [
    {
     "name": "stdout",
     "output_type": "stream",
     "text": [
      "[[['Text', 0.07], ['messages', 0.07], ['used', 0.07], ['personal', 0.07], ['family', 0.07], ['social', 0.07], ['purposes', 0.07], ['Governmental', 0.07], ['organizations', 0.07], ['use', 0.07], ['text', 0.07], ['messaging', 0.07], ['communication', 0.07], ['colleagues', 0.07]], [['Text', 0.07], ['messages', 0.07], ['used', 0.07], ['personal', 0.07], ['business', 0.07], ['social', 0.07], ['purposes', 0.07], ['Governmental', 0.07], ['organizations', 0.07], ['use', 0.07], ['text', 0.07], ['messaging', 0.07], ['communication', 0.07], ['colleagues', 0.07]], [['Text', 0.2], ['messages', 0.2], ['used', 0.2], ['personal', 0.2], ['purposes', 0.2]], [['Governmental', 0.14], ['organizations', 0.14], ['use', 0.14], ['text', 0.14], ['messaging', 0.14], ['communication', 0.14], ['colleagues', 0.14]], [['Governmental', 0.1], ['organizations', 0.1], ['use', 0.1], ['text', 0.1], ['messaging', 0.1], ['communication', 0.1], ['colleagues', 0.1], ['business', 0.1], ['social', 0.1], ['purposes', 0.1]], [['hello', 0.5], ['helwan', 0.5]], [['Helwan', 0.33], ['Uni', 0.33], ['many', 0.33]], [['helwan', 0.5], ['university', 0.5]], [['cairoo', 1.0]], [['cairo', 0.5], ['university', 0.5]]]\n"
     ]
    }
   ],
   "source": [
    "list_tf=[]\n",
    "list_tf=tf(all_info)\n",
    "print(list_tf)"
   ]
  },
  {
   "cell_type": "code",
   "execution_count": 57,
   "metadata": {},
   "outputs": [
    {
     "name": "stdout",
     "output_type": "stream",
     "text": [
      "[[['Text', 0.52], ['messages', 0.52], ['used', 0.52], ['personal', 0.52], ['family', 1.0], ['social', 0.52], ['purposes', 0.4], ['Governmental', 0.4], ['organizations', 0.4], ['use', 0.4], ['text', 0.4], ['messaging', 0.4], ['communication', 0.4], ['colleagues', 0.4]], [['Text', 0.52], ['messages', 0.52], ['used', 0.52], ['personal', 0.52], ['business', 0.7], ['social', 0.52], ['purposes', 0.4], ['Governmental', 0.4], ['organizations', 0.4], ['use', 0.4], ['text', 0.4], ['messaging', 0.4], ['communication', 0.4], ['colleagues', 0.4]], [['Text', 0.52], ['messages', 0.52], ['used', 0.52], ['personal', 0.52], ['purposes', 0.4]], [['Governmental', 0.4], ['organizations', 0.4], ['use', 0.4], ['text', 0.4], ['messaging', 0.4], ['communication', 0.4], ['colleagues', 0.4]], [['Governmental', 0.4], ['organizations', 0.4], ['use', 0.4], ['text', 0.4], ['messaging', 0.4], ['communication', 0.4], ['colleagues', 0.4], ['business', 0.7], ['social', 0.52], ['purposes', 0.4]], [['hello', 1.0], ['helwan', 0.7]], [['Helwan', 1.0], ['Uni', 1.0], ['many', 1.0]], [['helwan', 0.7], ['university', 0.7]], [['cairoo', 1.0]], [['cairo', 1.0], ['university', 0.7]]]\n"
     ]
    }
   ],
   "source": [
    "#idf\n",
    "list_idf=[]\n",
    "list_idf=idf(all_info)\n",
    "print(list_idf)"
   ]
  },
  {
   "cell_type": "code",
   "execution_count": 56,
   "metadata": {},
   "outputs": [
    {
     "name": "stdout",
     "output_type": "stream",
     "text": [
      "[[['Text', 0.04], ['messages', 0.04], ['used', 0.04], ['personal', 0.04], ['family', 0.07], ['social', 0.04], ['purposes', 0.03], ['Governmental', 0.03], ['organizations', 0.03], ['use', 0.03], ['text', 0.03], ['messaging', 0.03], ['communication', 0.03], ['colleagues', 0.03]], [['Text', 0.04], ['messages', 0.04], ['used', 0.04], ['personal', 0.04], ['business', 0.05], ['social', 0.04], ['purposes', 0.03], ['Governmental', 0.03], ['organizations', 0.03], ['use', 0.03], ['text', 0.03], ['messaging', 0.03], ['communication', 0.03], ['colleagues', 0.03]], [['Text', 0.1], ['messages', 0.1], ['used', 0.1], ['personal', 0.1], ['purposes', 0.08]], [['Governmental', 0.06], ['organizations', 0.06], ['use', 0.06], ['text', 0.06], ['messaging', 0.06], ['communication', 0.06], ['colleagues', 0.06]], [['Governmental', 0.04], ['organizations', 0.04], ['use', 0.04], ['text', 0.04], ['messaging', 0.04], ['communication', 0.04], ['colleagues', 0.04], ['business', 0.07], ['social', 0.05], ['purposes', 0.04]], [['hello', 0.5], ['helwan', 0.35]], [['Helwan', 0.33], ['Uni', 0.33], ['many', 0.33]], [['helwan', 0.35], ['university', 0.35]], [['cairoo', 1.0]], [['cairo', 0.5], ['university', 0.35]]]\n"
     ]
    }
   ],
   "source": [
    "#TF.idf matrix\n",
    "list_tfidf=[]\n",
    "list_tfidf=tf_idf(all_info)\n",
    "print(list_tfidf)"
   ]
  },
  {
   "cell_type": "code",
   "execution_count": 27,
   "metadata": {},
   "outputs": [
    {
     "name": "stdout",
     "output_type": "stream",
     "text": [
      "Enter your queryorganizations Governmental\n",
      "similarity between query and doucument Number 1 is :  0.3086066999241838\n",
      "similarity between query and doucument Number 2 is :  0.3086066999241838\n",
      "similarity between query and doucument Number 3 is :  0.0\n",
      "similarity between query and doucument Number 4 is :  0.4714045207910316\n",
      "similarity between query and doucument Number 5 is :  0.35355339059327373\n",
      "similarity between query and doucument Number 6 is :  0.0\n",
      "similarity between query and doucument Number 7 is :  0.0\n",
      "similarity between query and doucument Number 8 is :  0.0\n",
      "similarity between query and doucument Number 9 is :  0.0\n",
      "similarity between query and doucument Number 10 is :  0.0\n"
     ]
    }
   ],
   "source": [
    "#similarity\n",
    "def cosineSimmilarity(query, document):\n",
    "    inter = set(query.keys()) & set(document.keys())\n",
    "    num = sum([query[x] * document[x] for x in inter])\n",
    "    sum1 = sum([query[x] ** 2 for x in list(query.keys())])\n",
    "    sum2 = sum([document[x] ** 2 for x in list(document.keys())])\n",
    "    den = math.sqrt(sum1) * math.sqrt(sum2)\n",
    "    return float(num) / den\n",
    "\n",
    "WORD = re.compile(r\"\\w+\")\n",
    "\n",
    "def textConvert(text):\n",
    "    words = WORD.findall(text)\n",
    "    return Counter(words)\n",
    "\n",
    "\n",
    "query = input(\"Enter your query\")\n",
    "for i in range(1,11): \n",
    "    path = \"file\" + str(i) + \".txt\"\n",
    "    file = open(path)\n",
    "    document = file.read().replace(\"\\n\", \" \")\n",
    "    file.close()\n",
    "    userquery = textConvert(query)\n",
    "    userdocument = textConvert(document)\n",
    "    sim = cosineSimmilarity(userquery, userdocument)\n",
    "    print(\"similarity between query and doucument Number \" + str(i) + \" is : \", sim)"
   ]
  },
  {
   "cell_type": "code",
   "execution_count": null,
   "metadata": {},
   "outputs": [],
   "source": []
  },
  {
   "cell_type": "code",
   "execution_count": null,
   "metadata": {},
   "outputs": [],
   "source": []
  }
 ],
 "metadata": {
  "kernelspec": {
   "display_name": "Python 3",
   "language": "python",
   "name": "python3"
  },
  "language_info": {
   "codemirror_mode": {
    "name": "ipython",
    "version": 3
   },
   "file_extension": ".py",
   "mimetype": "text/x-python",
   "name": "python",
   "nbconvert_exporter": "python",
   "pygments_lexer": "ipython3",
   "version": "3.7.4"
  }
 },
 "nbformat": 4,
 "nbformat_minor": 4
}
